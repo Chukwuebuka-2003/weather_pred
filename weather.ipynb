{
 "cells": [
  {
   "cell_type": "code",
   "execution_count": 154,
   "metadata": {},
   "outputs": [],
   "source": [
    "# Import necessary libraries\n",
    "import pandas as pd\n",
    "from sklearn.model_selection import train_test_split, GridSearchCV\n",
    "from sklearn.ensemble import RandomForestRegressor\n",
    "from sklearn.metrics import mean_squared_error\n",
    "from sklearn.preprocessing import LabelEncoder\n",
    "from xgboost import XGBRegressor\n",
    "# Step 1: Load the historical rainfall data\n",
    "data = pd.read_csv('weather.csv')"
   ]
  },
  {
   "cell_type": "code",
   "execution_count": 155,
   "metadata": {},
   "outputs": [
    {
     "data": {
      "text/plain": [
       "Index(['Year', 'Month', 'Rainfall', 'Minimum Temperature', 'Wind Speed',\n",
       "       'Wind Direction', 'Maximum Temperature', 'Relative Humidity'],\n",
       "      dtype='object')"
      ]
     },
     "execution_count": 155,
     "metadata": {},
     "output_type": "execute_result"
    }
   ],
   "source": [
    "data.columns"
   ]
  },
  {
   "cell_type": "code",
   "execution_count": 156,
   "metadata": {},
   "outputs": [],
   "source": [
    "# Label Encoding for the 'Month' feature\n",
    "label_encoder = LabelEncoder()\n",
    "data['Month'] = label_encoder.fit_transform(data['Month'])\n",
    "\n",
    "# Split the data into features and target variables\n",
    "X = data[['Year', 'Month']]\n",
    "y = data[['Minimum Temperature', 'Wind Speed', 'Wind Direction', 'Maximum Temperature', 'Relative Humidity', 'Rainfall']]\n",
    "\n",
    "# Split the data into train, validation, and test sets\n",
    "X_train, X_rem, y_train, y_rem = train_test_split(X, y, test_size=0.3, random_state=42)\n",
    "X_val, X_test, y_val, y_test = train_test_split(X_rem, y_rem, test_size=0.5, random_state=42)\n"
   ]
  },
  {
   "cell_type": "code",
   "execution_count": 157,
   "metadata": {},
   "outputs": [
    {
     "name": "stdout",
     "output_type": "stream",
     "text": [
      "Mean Squared Error on Validation Set for Minimum Temperature: 2.2238925555555533\n",
      "Mean Squared Error on Validation Set for Wind Speed: 0.49270000000000014\n",
      "Mean Squared Error on Validation Set for Wind Direction: 1508.4466666666665\n",
      "Mean Squared Error on Validation Set for Maximum Temperature: 0.6027749999999952\n",
      "Mean Squared Error on Validation Set for Relative Humidity: 60.68560000000001\n",
      "Mean Squared Error on Validation Set for Rainfall: 4504.716094852225\n",
      "Mean Squared Error on Test Set for Minimum Temperature: 1.3195705000000102\n",
      "Mean Squared Error on Test Set for Wind Speed: 0.6138600000000001\n",
      "Mean Squared Error on Test Set for Wind Direction: 1497.3020000000001\n",
      "Mean Squared Error on Test Set for Maximum Temperature: 1.5608482000000004\n",
      "Mean Squared Error on Test Set for Relative Humidity: 29.76901\n",
      "Mean Squared Error on Test Set for Rainfall: 7489.478217663005\n"
     ]
    }
   ],
   "source": [
    "# Step 6: Model Selection and Training for each target variable\n",
    "models = {}\n",
    "for target_column in y.columns:\n",
    "    model = RandomForestRegressor()\n",
    "    model.fit(X_train, y_train[target_column])\n",
    "    models[target_column] = model\n",
    "\n",
    "# Step 7: Evaluation on validation set for each target variable\n",
    "mse_val = {}\n",
    "for target_column, model in models.items():\n",
    "    y_val_pred = model.predict(X_val)\n",
    "    mse_val[target_column] = mean_squared_error(y_val[target_column], y_val_pred)\n",
    "    print(f\"Mean Squared Error on Validation Set for {target_column}:\", mse_val[target_column])\n",
    "\n",
    "# Step 8: Evaluation on test set for each target variable\n",
    "mse_test = {}\n",
    "for target_column, model in models.items():\n",
    "    y_test_pred = model.predict(X_test)\n",
    "    mse_test[target_column] = mean_squared_error(y_test[target_column], y_test_pred)\n",
    "    print(f\"Mean Squared Error on Test Set for {target_column}:\", mse_test[target_column])\n"
   ]
  },
  {
   "cell_type": "code",
   "execution_count": 158,
   "metadata": {},
   "outputs": [
    {
     "data": {
      "text/html": [
       "<div>\n",
       "<style scoped>\n",
       "    .dataframe tbody tr th:only-of-type {\n",
       "        vertical-align: middle;\n",
       "    }\n",
       "\n",
       "    .dataframe tbody tr th {\n",
       "        vertical-align: top;\n",
       "    }\n",
       "\n",
       "    .dataframe thead th {\n",
       "        text-align: right;\n",
       "    }\n",
       "</style>\n",
       "<table border=\"1\" class=\"dataframe\">\n",
       "  <thead>\n",
       "    <tr style=\"text-align: right;\">\n",
       "      <th></th>\n",
       "      <th>Validation MSE</th>\n",
       "      <th>Test MSE</th>\n",
       "    </tr>\n",
       "  </thead>\n",
       "  <tbody>\n",
       "    <tr>\n",
       "      <th>Minimum Temperature</th>\n",
       "      <td>2.223893</td>\n",
       "      <td>1.319571</td>\n",
       "    </tr>\n",
       "    <tr>\n",
       "      <th>Wind Speed</th>\n",
       "      <td>0.492700</td>\n",
       "      <td>0.613860</td>\n",
       "    </tr>\n",
       "    <tr>\n",
       "      <th>Wind Direction</th>\n",
       "      <td>1508.446667</td>\n",
       "      <td>1497.302000</td>\n",
       "    </tr>\n",
       "    <tr>\n",
       "      <th>Maximum Temperature</th>\n",
       "      <td>0.602775</td>\n",
       "      <td>1.560848</td>\n",
       "    </tr>\n",
       "    <tr>\n",
       "      <th>Relative Humidity</th>\n",
       "      <td>60.685600</td>\n",
       "      <td>29.769010</td>\n",
       "    </tr>\n",
       "    <tr>\n",
       "      <th>Rainfall</th>\n",
       "      <td>4504.716095</td>\n",
       "      <td>7489.478218</td>\n",
       "    </tr>\n",
       "  </tbody>\n",
       "</table>\n",
       "</div>"
      ],
      "text/plain": [
       "                     Validation MSE     Test MSE\n",
       "Minimum Temperature        2.223893     1.319571\n",
       "Wind Speed                 0.492700     0.613860\n",
       "Wind Direction          1508.446667  1497.302000\n",
       "Maximum Temperature        0.602775     1.560848\n",
       "Relative Humidity         60.685600    29.769010\n",
       "Rainfall                4504.716095  7489.478218"
      ]
     },
     "execution_count": 158,
     "metadata": {},
     "output_type": "execute_result"
    }
   ],
   "source": [
    "mse_df = pd.DataFrame({'Validation MSE': mse_val, 'Test MSE': mse_test})\n",
    "\n",
    "mse_df"
   ]
  },
  {
   "cell_type": "code",
   "execution_count": 159,
   "metadata": {},
   "outputs": [
    {
     "name": "stdout",
     "output_type": "stream",
     "text": [
      "Mean Squared Error on Validation Set for Minimum Temperature: 4.1877104946155725\n",
      "Mean Squared Error on Validation Set for Wind Speed: 0.6222467658474657\n",
      "Mean Squared Error on Validation Set for Wind Direction: 1296.5279374202557\n",
      "Mean Squared Error on Validation Set for Maximum Temperature: 0.9558027388543662\n",
      "Mean Squared Error on Validation Set for Relative Humidity: 120.60419509424375\n",
      "Mean Squared Error on Validation Set for Rainfall: 6450.722808614349\n",
      "Mean Squared Error on Test Set for Minimum Temperature: 0.6784084032571112\n",
      "Mean Squared Error on Test Set for Wind Speed: 0.8556377795686956\n",
      "Mean Squared Error on Test Set for Wind Direction: 1820.1678827874828\n",
      "Mean Squared Error on Test Set for Maximum Temperature: 1.7954854586656572\n",
      "Mean Squared Error on Test Set for Relative Humidity: 31.59636360953009\n",
      "Mean Squared Error on Test Set for Rainfall: 12665.59796085662\n"
     ]
    }
   ],
   "source": [
    "# Now using XgboostRegressor\n",
    "\n",
    "# Step 6: Model Selection and Training for each target variable\n",
    "models = {}\n",
    "for target_column in y.columns:\n",
    "    model = XGBRegressor()\n",
    "    model.fit(X_train, y_train[target_column])\n",
    "    models[target_column] = model\n",
    "\n",
    "# Step 7: Evaluation on validation set for each target variable\n",
    "xgb_mse_val = {}\n",
    "for target_column, model in models.items():\n",
    "    y_val_pred = model.predict(X_val)\n",
    "    xgb_mse_val[target_column] = mean_squared_error(y_val[target_column], y_val_pred)\n",
    "    print(f\"Mean Squared Error on Validation Set for {target_column}:\", xgb_mse_val[target_column])\n",
    "\n",
    "# Step 8: Evaluation on test set for each target variable\n",
    "xgb_mse_test = {}\n",
    "for target_column, model in models.items():\n",
    "    y_test_pred = model.predict(X_test)\n",
    "    xgb_mse_test[target_column] = mean_squared_error(y_test[target_column], y_test_pred)\n",
    "    print(f\"Mean Squared Error on Test Set for {target_column}:\", xgb_mse_test[target_column])\n"
   ]
  },
  {
   "cell_type": "code",
   "execution_count": 160,
   "metadata": {},
   "outputs": [
    {
     "data": {
      "text/html": [
       "<div>\n",
       "<style scoped>\n",
       "    .dataframe tbody tr th:only-of-type {\n",
       "        vertical-align: middle;\n",
       "    }\n",
       "\n",
       "    .dataframe tbody tr th {\n",
       "        vertical-align: top;\n",
       "    }\n",
       "\n",
       "    .dataframe thead th {\n",
       "        text-align: right;\n",
       "    }\n",
       "</style>\n",
       "<table border=\"1\" class=\"dataframe\">\n",
       "  <thead>\n",
       "    <tr style=\"text-align: right;\">\n",
       "      <th></th>\n",
       "      <th>Validation MSE</th>\n",
       "      <th>Test MSE</th>\n",
       "    </tr>\n",
       "  </thead>\n",
       "  <tbody>\n",
       "    <tr>\n",
       "      <th>Minimum Temperature</th>\n",
       "      <td>4.187710</td>\n",
       "      <td>0.678408</td>\n",
       "    </tr>\n",
       "    <tr>\n",
       "      <th>Wind Speed</th>\n",
       "      <td>0.622247</td>\n",
       "      <td>0.855638</td>\n",
       "    </tr>\n",
       "    <tr>\n",
       "      <th>Wind Direction</th>\n",
       "      <td>1296.527937</td>\n",
       "      <td>1820.167883</td>\n",
       "    </tr>\n",
       "    <tr>\n",
       "      <th>Maximum Temperature</th>\n",
       "      <td>0.955803</td>\n",
       "      <td>1.795485</td>\n",
       "    </tr>\n",
       "    <tr>\n",
       "      <th>Relative Humidity</th>\n",
       "      <td>120.604195</td>\n",
       "      <td>31.596364</td>\n",
       "    </tr>\n",
       "    <tr>\n",
       "      <th>Rainfall</th>\n",
       "      <td>6450.722809</td>\n",
       "      <td>12665.597961</td>\n",
       "    </tr>\n",
       "  </tbody>\n",
       "</table>\n",
       "</div>"
      ],
      "text/plain": [
       "                     Validation MSE      Test MSE\n",
       "Minimum Temperature        4.187710      0.678408\n",
       "Wind Speed                 0.622247      0.855638\n",
       "Wind Direction          1296.527937   1820.167883\n",
       "Maximum Temperature        0.955803      1.795485\n",
       "Relative Humidity        120.604195     31.596364\n",
       "Rainfall                6450.722809  12665.597961"
      ]
     },
     "execution_count": 160,
     "metadata": {},
     "output_type": "execute_result"
    }
   ],
   "source": [
    "mse_df = pd.DataFrame({'Validation MSE': xgb_mse_val, 'Test MSE': xgb_mse_test})\n",
    "\n",
    "mse_df"
   ]
  },
  {
   "cell_type": "code",
   "execution_count": 161,
   "metadata": {},
   "outputs": [
    {
     "name": "stdout",
     "output_type": "stream",
     "text": [
      "Best Hyperparameters for Minimum Temperature: {'learning_rate': 0.01, 'max_depth': 6, 'n_estimators': 150}\n",
      "Best Hyperparameters for Wind Speed: {'learning_rate': 0.1, 'max_depth': 3, 'n_estimators': 25}\n",
      "Best Hyperparameters for Wind Direction: {'learning_rate': 0.01, 'max_depth': 6, 'n_estimators': 80}\n",
      "Best Hyperparameters for Maximum Temperature: {'learning_rate': 0.3, 'max_depth': 3, 'n_estimators': 25}\n",
      "Best Hyperparameters for Relative Humidity: {'learning_rate': 0.1, 'max_depth': 3, 'n_estimators': 50}\n",
      "Best Hyperparameters for Rainfall: {'learning_rate': 0.1, 'max_depth': 3, 'n_estimators': 47}\n",
      "Mean Squared Error on Validation Set for Minimum Temperature: 2.8089201996160993\n",
      "Mean Squared Error on Validation Set for Wind Speed: 0.479647004433174\n",
      "Mean Squared Error on Validation Set for Wind Direction: 2501.799754013954\n",
      "Mean Squared Error on Validation Set for Maximum Temperature: 0.578656883083377\n",
      "Mean Squared Error on Validation Set for Relative Humidity: 120.08105322871577\n",
      "Mean Squared Error on Validation Set for Rainfall: 7860.8899525627285\n",
      "Mean Squared Error on Test Set for Minimum Temperature: 0.4975666136495994\n",
      "Mean Squared Error on Test Set for Wind Speed: 0.5603748006383398\n",
      "Mean Squared Error on Test Set for Wind Direction: 1926.7569802696817\n",
      "Mean Squared Error on Test Set for Maximum Temperature: 1.5466848594789322\n",
      "Mean Squared Error on Test Set for Relative Humidity: 30.67323859825701\n",
      "Mean Squared Error on Test Set for Rainfall: 9763.70389028694\n"
     ]
    }
   ],
   "source": [
    "#now using hyperparameter tuning\n",
    "\n",
    "xgb_models = {}\n",
    "params = {\n",
    "    'n_estimators': [10,30,50,25,47,80, 150],\n",
    "    'max_depth': [3, 6, 9],\n",
    "    'learning_rate': [0.01, 0.1, 0.3]\n",
    "}\n",
    "for target_column in y.columns:\n",
    "    grid_search = GridSearchCV(XGBRegressor(random_state=42), params, cv=5, scoring='neg_mean_squared_error', n_jobs=-1)\n",
    "    grid_search.fit(X_train, y_train[target_column])\n",
    "    best_model = grid_search.best_estimator_\n",
    "    xgb_models[target_column] = best_model\n",
    "    print(f\"Best Hyperparameters for {target_column}:\", grid_search.best_params_)\n",
    "\n",
    "#Evaluation on validation set for each target variable using best parameters\n",
    "xgb_mse_val = {}\n",
    "for target_column, model in xgb_models.items():\n",
    "    y_val_pred = model.predict(X_val)\n",
    "    xgb_mse_val[target_column] = mean_squared_error(y_val[target_column], y_val_pred)\n",
    "    print(f\"Mean Squared Error on Validation Set for {target_column}:\", xgb_mse_val[target_column])\n",
    "\n",
    "# Evaluation on test set for each target variable using best model parameters\n",
    "xgb_mse_test = {}\n",
    "for target_column, model in xgb_models.items():\n",
    "    y_test_pred = model.predict(X_test)\n",
    "    xgb_mse_test[target_column] = mean_squared_error(y_test[target_column], y_test_pred)\n",
    "    print(f\"Mean Squared Error on Test Set for {target_column}:\", xgb_mse_test[target_column])\n"
   ]
  },
  {
   "cell_type": "code",
   "execution_count": 162,
   "metadata": {},
   "outputs": [
    {
     "data": {
      "text/html": [
       "<div>\n",
       "<style scoped>\n",
       "    .dataframe tbody tr th:only-of-type {\n",
       "        vertical-align: middle;\n",
       "    }\n",
       "\n",
       "    .dataframe tbody tr th {\n",
       "        vertical-align: top;\n",
       "    }\n",
       "\n",
       "    .dataframe thead th {\n",
       "        text-align: right;\n",
       "    }\n",
       "</style>\n",
       "<table border=\"1\" class=\"dataframe\">\n",
       "  <thead>\n",
       "    <tr style=\"text-align: right;\">\n",
       "      <th></th>\n",
       "      <th>Validation MSE</th>\n",
       "      <th>Test MSE</th>\n",
       "    </tr>\n",
       "  </thead>\n",
       "  <tbody>\n",
       "    <tr>\n",
       "      <th>Minimum Temperature</th>\n",
       "      <td>2.808920</td>\n",
       "      <td>0.497567</td>\n",
       "    </tr>\n",
       "    <tr>\n",
       "      <th>Wind Speed</th>\n",
       "      <td>0.479647</td>\n",
       "      <td>0.560375</td>\n",
       "    </tr>\n",
       "    <tr>\n",
       "      <th>Wind Direction</th>\n",
       "      <td>2501.799754</td>\n",
       "      <td>1926.756980</td>\n",
       "    </tr>\n",
       "    <tr>\n",
       "      <th>Maximum Temperature</th>\n",
       "      <td>0.578657</td>\n",
       "      <td>1.546685</td>\n",
       "    </tr>\n",
       "    <tr>\n",
       "      <th>Relative Humidity</th>\n",
       "      <td>120.081053</td>\n",
       "      <td>30.673239</td>\n",
       "    </tr>\n",
       "    <tr>\n",
       "      <th>Rainfall</th>\n",
       "      <td>7860.889953</td>\n",
       "      <td>9763.703890</td>\n",
       "    </tr>\n",
       "  </tbody>\n",
       "</table>\n",
       "</div>"
      ],
      "text/plain": [
       "                     Validation MSE     Test MSE\n",
       "Minimum Temperature        2.808920     0.497567\n",
       "Wind Speed                 0.479647     0.560375\n",
       "Wind Direction          2501.799754  1926.756980\n",
       "Maximum Temperature        0.578657     1.546685\n",
       "Relative Humidity        120.081053    30.673239\n",
       "Rainfall                7860.889953  9763.703890"
      ]
     },
     "execution_count": 162,
     "metadata": {},
     "output_type": "execute_result"
    }
   ],
   "source": [
    "mse_df = pd.DataFrame({'Validation MSE': xgb_mse_val, 'Test MSE': xgb_mse_test})\n",
    "\n",
    "mse_df"
   ]
  },
  {
   "cell_type": "code",
   "execution_count": 163,
   "metadata": {},
   "outputs": [
    {
     "name": "stdout",
     "output_type": "stream",
     "text": [
      "Predicted Minimum Temperature for the month: [21.779049]\n",
      "Predicted Wind Speed for the month: [4.7748785]\n",
      "Predicted Wind Direction for the month: [281.1286]\n",
      "Predicted Maximum Temperature for the month: [30.519278]\n",
      "Predicted Relative Humidity for the month: [80.49191]\n",
      "Predicted Rainfall for the month: [181.40904]\n"
     ]
    }
   ],
   "source": [
    "# Sample data for prediction\n",
    "sample_data = pd.DataFrame({\n",
    "    'Year': [2024],\n",
    "    'Month': label_encoder.transform(['August'])\n",
    "})\n",
    "\n",
    "# Predict using the best XGBRegressor models\n",
    "predicted_values = {}\n",
    "for target_column, model in xgb_models.items():\n",
    "    predicted_values[target_column] = model.predict(sample_data)\n",
    "\n",
    "# Display the predicted values\n",
    "for target_column, value in predicted_values.items():\n",
    "    print(f\"Predicted {target_column} for the month:\", value)\n"
   ]
  },
  {
   "cell_type": "code",
   "execution_count": 164,
   "metadata": {},
   "outputs": [],
   "source": [
    "from joblib import dump\n",
    "\n",
    "# Save the trained XGBRegressor models\n",
    "for target_column, model in xgb_models.items():\n",
    "    dump(model, f'{target_column}_xgb_model.sav')\n"
   ]
  },
  {
   "cell_type": "code",
   "execution_count": 165,
   "metadata": {},
   "outputs": [],
   "source": [
    "sample_data = pd.DataFrame({\n",
    "    'Year': [2024],\n",
    "    'Month': label_encoder.transform(['August'])\n",
    "})"
   ]
  },
  {
   "cell_type": "code",
   "execution_count": 166,
   "metadata": {},
   "outputs": [
    {
     "name": "stdout",
     "output_type": "stream",
     "text": [
      "Predicted Minimum Temperature for the month: [21.779049]\n",
      "Predicted Wind Speed for the month: [4.7748785]\n",
      "Predicted Wind Direction for the month: [281.1286]\n",
      "Predicted Maximum Temperature for the month: [30.519278]\n",
      "Predicted Relative Humidity for the month: [80.49191]\n",
      "Predicted Rainfall for the month: [181.40904]\n"
     ]
    }
   ],
   "source": [
    "from joblib import load\n",
    "\n",
    "# Dictionary to store loaded models\n",
    "loaded_models = {}\n",
    "\n",
    "# Load the saved XGBRegressor models\n",
    "for target_column in y.columns:\n",
    "    loaded_models[target_column] = load(f'{target_column}_xgb_model.sav')\n",
    "\n",
    "\n",
    "predicted_values = {}\n",
    "for target_column, model in loaded_models.items():\n",
    "    predicted_values[target_column] = model.predict(sample_data)\n",
    "\n",
    "# Display the predicted values\n",
    "for target_column, value in predicted_values.items():\n",
    "    print(f\"Predicted {target_column} for the month:\", value)\n"
   ]
  },
  {
   "cell_type": "code",
   "execution_count": null,
   "metadata": {},
   "outputs": [],
   "source": []
  }
 ],
 "metadata": {
  "kernelspec": {
   "display_name": "base",
   "language": "python",
   "name": "python3"
  },
  "language_info": {
   "codemirror_mode": {
    "name": "ipython",
    "version": 3
   },
   "file_extension": ".py",
   "mimetype": "text/x-python",
   "name": "python",
   "nbconvert_exporter": "python",
   "pygments_lexer": "ipython3",
   "version": "3.11.7"
  }
 },
 "nbformat": 4,
 "nbformat_minor": 2
}
